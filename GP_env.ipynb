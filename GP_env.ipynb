{
 "cells": [
  {
   "cell_type": "code",
   "execution_count": 1,
   "metadata": {},
   "outputs": [
    {
     "name": "stdout",
     "output_type": "stream",
     "text": [
      "pygame 2.5.2 (SDL 2.28.3, Python 3.7.16)\n",
      "Hello from the pygame community. https://www.pygame.org/contribute.html\n"
     ]
    }
   ],
   "source": [
    "#import libraries\n",
    "import carla\n",
    "import cv2\n",
    "import pygame\n",
    "import numpy as np\n",
    "import math\n",
    "from threading import Thread"
   ]
  },
  {
   "cell_type": "code",
   "execution_count": 73,
   "metadata": {},
   "outputs": [],
   "source": [
    "#define clinet\n",
    "client = carla.Client('localhost',2000)\n",
    "world = client.get_world()\n",
    "bp_library = world.get_blueprint_library()\n",
    "vehicle_bp_library = world.get_blueprint_library().filter('vehicle')\n",
    "transform = world.get_map().get_spawn_points()\n"
   ]
  },
  {
   "cell_type": "code",
   "execution_count": 74,
   "metadata": {},
   "outputs": [],
   "source": [
    "#spawn main vehicle\n",
    "start_point = transform[0]\n",
    "vehicle_bp = vehicle_bp_library.filter('vehicle.bmw.grandtourer')\n",
    "main_vehicle = world.spawn_actor(vehicle_bp[0],start_point)"
   ]
  },
  {
   "cell_type": "code",
   "execution_count": 75,
   "metadata": {},
   "outputs": [],
   "source": [
    "#define RGB Camera for main vehicle\n",
    "camera_bp = bp_library.find('sensor.camera.rgb')\n",
    "camera_bp.set_attribute('image_size_x', '720')\n",
    "camera_bp.set_attribute('image_size_y', '460')\n",
    "camera_transform = carla.Transform(carla.Location(x=-5, z=3))\n",
    "camera = world.spawn_actor(camera_bp, camera_transform, attach_to=main_vehicle)\n",
    "def camera_callback(image,data_dict):\n",
    "    data_dict['image'] = np.reshape(np.copy(image.raw_data),(image.height,image.width,4))\n",
    "\n",
    "image_w = camera_bp.get_attribute('image_size_x').as_int()\n",
    "image_h = camera_bp.get_attribute('image_size_y').as_int()\n",
    "\n",
    "camera_data = {'image': np.zeros((image_h,image_w,4))}\n",
    "camera.listen(lambda image: camera_callback(image,camera_data))"
   ]
  },
  {
   "cell_type": "code",
   "execution_count": 76,
   "metadata": {},
   "outputs": [],
   "source": [
    "#control speed for main vehicle\n",
    "PREFERRED_SPEED = 30 \n",
    "SPEED_THRESHOLD = 2\n",
    "def maintain_speed(s):\n",
    "    if s >= PREFERRED_SPEED:\n",
    "        return 0\n",
    "    elif s < PREFERRED_SPEED - SPEED_THRESHOLD:\n",
    "        return 0.8 \n",
    "    else:\n",
    "        return 0.4 "
   ]
  },
  {
   "cell_type": "code",
   "execution_count": 77,
   "metadata": {},
   "outputs": [],
   "source": [
    "#spawn test vehicle\n",
    "test_vehicle_bp = vehicle_bp_library.filter('vehicle.mini.cooper_s')\n",
    "test_vehicle_points = carla.Transform(carla.Location(x=-52.280296, y=46.886234, z=0.067663), carla.Rotation(pitch=-0.004399, yaw=-90.062912, roll=0.0000))\n",
    "test_vehicle = world.spawn_actor(test_vehicle_bp[0],test_vehicle_points)"
   ]
  },
  {
   "cell_type": "code",
   "execution_count": 78,
   "metadata": {},
   "outputs": [],
   "source": [
    "# Render object to keep and pass the PyGame surface\n",
    "class RenderObject(object):\n",
    "    def __init__(self, width, height):\n",
    "        init_image = np.random.randint(0,255,(height,width,3),dtype='uint8')\n",
    "        self.surface = pygame.surfarray.make_surface(init_image.swapaxes(0,1))\n",
    "\n",
    "# Camera sensor callback, reshapes raw data from camera into 2D RGB and applies to PyGame surface\n",
    "def pygame_callback(data, obj):\n",
    "    img = np.reshape(np.copy(data.raw_data), (data.height, data.width, 4))\n",
    "    img = img[:,:,:3]\n",
    "    img = img[:, :, ::-1]\n",
    "    obj.surface = pygame.surfarray.make_surface(img.swapaxes(0,1))"
   ]
  },
  {
   "cell_type": "code",
   "execution_count": 79,
   "metadata": {},
   "outputs": [],
   "source": [
    "# Control test vehicle with keyboard using pygame\n",
    "class ControlObject(object):\n",
    "    def __init__(self, veh):\n",
    "        self._vehicle = veh\n",
    "        self._steer = 0\n",
    "        self._throttle = False\n",
    "        self._brake = False\n",
    "        self._steer = None\n",
    "        self._steer_cache = 0\n",
    "        self._control = carla.VehicleControl()\n",
    "\n",
    "    \n",
    "    def parse_control(self, event):\n",
    "        if event.type == pygame.KEYDOWN:\n",
    "            self._vehicle.set_autopilot(False)\n",
    "            if event.key == pygame.K_UP:\n",
    "                self._throttle = True\n",
    "            if event.key == pygame.K_DOWN:\n",
    "                self._brake = True\n",
    "            if event.key == pygame.K_RIGHT:\n",
    "                self._steer = 1\n",
    "            if event.key == pygame.K_LEFT:\n",
    "                self._steer = -1\n",
    "        if event.type == pygame.KEYUP:\n",
    "            if event.key == pygame.K_UP:\n",
    "                self._throttle = False\n",
    "            if event.key == pygame.K_DOWN:\n",
    "                self._brake = False\n",
    "                self._control.reverse = False\n",
    "            if event.key == pygame.K_RIGHT:\n",
    "                self._steer = None\n",
    "            if event.key == pygame.K_LEFT:\n",
    "                self._steer = None\n",
    "\n",
    "    \n",
    "    def process_control(self):\n",
    "\n",
    "        if self._throttle: \n",
    "            self._control.hand_brake = False\n",
    "            self._control.throttle = min(self._control.throttle + 0.01, 1)\n",
    "            self._control.gear = 1\n",
    "            self._control.brake = False\n",
    "        elif not self._brake:\n",
    "            self._control.throttle = 0.0\n",
    "\n",
    "        if self._brake:\n",
    "            # If the down arrow is held down when the car is stationary, switch to reverse\n",
    "            self._control.hand_brake = False\n",
    "            if self._vehicle.get_velocity().length() < 0.01 and not self._control.reverse:\n",
    "                self._control.brake = 0.0\n",
    "                self._control.gear = 1\n",
    "                self._control.reverse = True\n",
    "                self._control.throttle = min(self._control.throttle + 0.1, 1)\n",
    "            elif self._control.reverse:\n",
    "                self._control.throttle = min(self._control.throttle + 0.1, 1)\n",
    "            else:\n",
    "                self._control.throttle = 0.0\n",
    "                self._control.brake = min(self._control.brake + 0.3, 1)\n",
    "        else:\n",
    "            self._control.brake = 0.0\n",
    "\n",
    "        if self._steer is not None:\n",
    "            if self._steer == 1:\n",
    "                self._steer_cache += 0.03\n",
    "            if self._steer == -1:\n",
    "                self._steer_cache -= 0.03\n",
    "            min(0.7, max(-0.7, self._steer_cache))\n",
    "            self._control.steer = round(self._steer_cache,1)\n",
    "        else:\n",
    "            if self._steer_cache > 0.0:\n",
    "                self._steer_cache *= 0.2\n",
    "            if self._steer_cache < 0.0:\n",
    "                self._steer_cache *= 0.2\n",
    "            if 0.01 > self._steer_cache > -0.01:\n",
    "                self._steer_cache = 0.0\n",
    "            self._control.steer = round(self._steer_cache,1)\n",
    "\n",
    "        # Ápply the control parameters to the test vehicle\n",
    "        self._vehicle.apply_control(self._control)"
   ]
  },
  {
   "cell_type": "code",
   "execution_count": 80,
   "metadata": {},
   "outputs": [],
   "source": [
    "# Initialise the camera for test vehicle\n",
    "camera_init_trans = carla.Transform(carla.Location(x=-5, z=3), carla.Rotation(pitch=-20))\n",
    "test_vehicle_cam = world.get_blueprint_library().find('sensor.camera.rgb')\n",
    "camera = world.spawn_actor(test_vehicle_cam, camera_init_trans, attach_to=test_vehicle)\n",
    "\n",
    "\n",
    "camera.listen(lambda image: pygame_callback(image, renderObject))\n",
    "\n",
    "\n",
    "image_w = test_vehicle_cam.get_attribute(\"image_size_x\").as_int()\n",
    "image_h = test_vehicle_cam.get_attribute(\"image_size_y\").as_int()\n",
    "\n",
    "\n",
    "renderObject = RenderObject(image_w, image_h)\n",
    "controlObject = ControlObject(test_vehicle)"
   ]
  },
  {
   "cell_type": "code",
   "execution_count": 81,
   "metadata": {},
   "outputs": [],
   "source": [
    "#control main vehicle\n",
    "import sys\n",
    "sys.path.append('C:\\carla\\WindowsNoEditor\\PythonAPI\\carla') #depends on your path\n",
    "from agents.navigation.global_route_planner import GlobalRoutePlanner\n",
    "\n",
    "def main_vehicle_control():\n",
    "\n",
    "    brake_pos = carla.Transform(carla.Location(x=95.991333, y=24.470984, z=0.068305), carla.Rotation(pitch=0.000075, yaw=0.159189, roll=-0.000488))\n",
    "    point_a = start_point.location\n",
    "\n",
    "    sampling_resolution = .8\n",
    "    grp = GlobalRoutePlanner(world.get_map(), sampling_resolution)\n",
    "\n",
    "    route = grp.trace_route(point_a, brake_pos.location)\n",
    "\n",
    "\n",
    "    for waypoint in route:\n",
    "        main_vehicle.set_transform(waypoint[0].transform)\n",
    "        cv2.imshow('main vehicle',camera_data['image'])\n",
    "        cv2.waitKey(40)\n",
    "        world.tick()\n",
    "        if cv2.waitKey(1) == ord('q'):\n",
    "            break\n",
    "        #main_vehicle.apply_control(carla.VehicleControl(throttle=0.0, steer=0.0,hand_brake=True))\n",
    "        v = main_vehicle.get_velocity()\n",
    "        speed = round(3.6 * math.sqrt(v.x**2 + v.y**2 + v.z**2),0)\n",
    "        estimated_throttle = maintain_speed(speed)\n",
    "        main_vehicle.apply_control(carla.VehicleControl(throttle=estimated_throttle, \n",
    "                                                steer=0.0))\n",
    "\n",
    "        \n",
    "    cv2.destroyAllWindows()\n",
    "    camera.stop()\n",
    "auto_thread = Thread(target=main_vehicle_control)\n",
    "auto_thread.start()"
   ]
  },
  {
   "cell_type": "code",
   "execution_count": 82,
   "metadata": {},
   "outputs": [
    {
     "data": {
      "text/plain": [
       "'keyboard_thread = Thread(target=test_vehicle_control)\\nkeyboard_thread.start()'"
      ]
     },
     "execution_count": 82,
     "metadata": {},
     "output_type": "execute_result"
    }
   ],
   "source": [
    "# Initialise the display\n",
    "pygame.init()\n",
    "gameDisplay = pygame.display.set_mode((image_w,image_h), pygame.HWSURFACE | pygame.DOUBLEBUF)\n",
    "\n",
    "# Game loop\n",
    "\"\"\"def test_vehicle_control():\"\"\"\n",
    "crashed = False\n",
    "\n",
    "while not crashed:\n",
    "    world.tick()\n",
    "    gameDisplay.blit(renderObject.surface, (0,0))\n",
    "    pygame.display.flip()\n",
    "    controlObject.process_control()\n",
    "    for event in pygame.event.get():\n",
    "            # If the window is closed, break the while loop\n",
    "        if event.type == pygame.QUIT:\n",
    "            crashed = True\n",
    "\n",
    "            # Parse effect of key press event on control state\n",
    "        controlObject.parse_control(event)\n",
    "camera.stop()\n",
    "pygame.quit()\n",
    "\"\"\"keyboard_thread = Thread(target=test_vehicle_control)\n",
    "keyboard_thread.start()\"\"\"\n"
   ]
  },
  {
   "cell_type": "code",
   "execution_count": 31,
   "metadata": {},
   "outputs": [],
   "source": [
    "#spawn the pedestrian\n",
    "pedestrian_bp_library = world.get_blueprint_library().filter('*walker*')\n",
    "pedestrian_bp = pedestrian_bp_library.filter('walker.pedestrian.0024')\n",
    "pedestrian_points = carla.Transform(carla.Location(x=58.312057, y=24.831600, z=0.067690), carla.Rotation(pitch=-0.001373, yaw=180.000000, roll=0.000000))\n",
    "pedestrian = world.spawn_actor(pedestrian_bp[0],pedestrian_points)\n"
   ]
  },
  {
   "cell_type": "code",
   "execution_count": 83,
   "metadata": {},
   "outputs": [],
   "source": [
    "#clear all actors\n",
    "for actor in world.get_actors().filter('*vehicle*'):\n",
    "    actor.destroy()\n",
    "for pedestrian in world.get_actors().filter('*walker*'):\n",
    "    pedestrian.destroy()\n",
    "for sensor in world.get_actors().filter('*sensor*'):\n",
    "    sensor.destroy()"
   ]
  },
  {
   "cell_type": "code",
   "execution_count": 72,
   "metadata": {},
   "outputs": [],
   "source": [
    "cv2.destroyAllWindows()\n",
    "camera.stop()\n",
    "pygame.quit()"
   ]
  },
  {
   "cell_type": "code",
   "execution_count": null,
   "metadata": {},
   "outputs": [],
   "source": []
  }
 ],
 "metadata": {
  "kernelspec": {
   "display_name": "carla-sim",
   "language": "python",
   "name": "python3"
  },
  "language_info": {
   "codemirror_mode": {
    "name": "ipython",
    "version": 3
   },
   "file_extension": ".py",
   "mimetype": "text/x-python",
   "name": "python",
   "nbconvert_exporter": "python",
   "pygments_lexer": "ipython3",
   "version": "3.7.16"
  }
 },
 "nbformat": 4,
 "nbformat_minor": 2
}
