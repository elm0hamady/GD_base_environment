{
 "cells": [
  {
   "cell_type": "code",
   "execution_count": 1,
   "metadata": {},
   "outputs": [],
   "source": [
    "#import libraries\n",
    "import carla\n",
    "import cv2\n",
    "import numpy as np\n",
    "import math"
   ]
  },
  {
   "cell_type": "code",
   "execution_count": 2,
   "metadata": {},
   "outputs": [],
   "source": [
    "#define clinet\n",
    "client = carla.Client('localhost',2000)\n",
    "world = client.get_world()\n",
    "bp_library = world.get_blueprint_library()\n",
    "vehicle_bp_library = world.get_blueprint_library().filter('vehicle')\n",
    "transform = world.get_map().get_spawn_points()"
   ]
  },
  {
   "cell_type": "code",
   "execution_count": 3,
   "metadata": {},
   "outputs": [],
   "source": [
    "#spawn main vehicle\n",
    "start_point = transform[0]\n",
    "vehicle_bp = vehicle_bp_library.filter('vehicle.bmw.grandtourer')\n",
    "main_vehicle = world.spawn_actor(vehicle_bp[0],start_point)"
   ]
  },
  {
   "cell_type": "code",
   "execution_count": 4,
   "metadata": {},
   "outputs": [],
   "source": [
    "#spawn test vehicle\n",
    "test_vehicle_bp = vehicle_bp_library.filter('vehicle.mini.cooper_s')\n",
    "test_vehicle_points = carla.Transform(carla.Location(x=-52.280296, y=46.886234, z=0.067663), carla.Rotation(pitch=-0.004399, yaw=-90.062912, roll=0.0000))\n",
    "test_vehicle = world.spawn_actor(test_vehicle_bp[0],test_vehicle_points)"
   ]
  },
  {
   "cell_type": "code",
   "execution_count": 5,
   "metadata": {},
   "outputs": [],
   "source": [
    "#spawn the pedestrian\n",
    "pedestrian_bp_library = world.get_blueprint_library().filter('*walker*')\n",
    "pedestrian_bp = pedestrian_bp_library.filter('walker.pedestrian.0024')\n",
    "pedestrian_points = carla.Transform(carla.Location(x=58.312057, y=24.831600, z=0.067690), carla.Rotation(pitch=-0.001373, yaw=180.000000, roll=0.000000))\n",
    "pedestrian = world.spawn_actor(pedestrian_bp[0],pedestrian_points)\n"
   ]
  },
  {
   "cell_type": "code",
   "execution_count": 6,
   "metadata": {},
   "outputs": [],
   "source": [
    "#define RGB Camera\n",
    "camera_bp = bp_library.find('sensor.camera.rgb')\n",
    "camera_bp.set_attribute('image_size_x', '720')\n",
    "camera_bp.set_attribute('image_size_y', '460')\n",
    "camera_transform = carla.Transform(carla.Location(x=-5, z=3))\n",
    "camera = world.spawn_actor(camera_bp, camera_transform, attach_to=main_vehicle)\n",
    "def camera_callback(image,data_dict):\n",
    "    data_dict['image'] = np.reshape(np.copy(image.raw_data),(image.height,image.width,4))\n",
    "\n",
    "image_w = camera_bp.get_attribute('image_size_x').as_int()\n",
    "image_h = camera_bp.get_attribute('image_size_y').as_int()\n",
    "\n",
    "camera_data = {'image': np.zeros((image_h,image_w,4))}\n",
    "camera.listen(lambda image: camera_callback(image,camera_data))"
   ]
  },
  {
   "cell_type": "code",
   "execution_count": 7,
   "metadata": {},
   "outputs": [],
   "source": [
    "#control speed \n",
    "PREFERRED_SPEED = 30 \n",
    "SPEED_THRESHOLD = 2\n",
    "def maintain_speed(s):\n",
    "    if s >= PREFERRED_SPEED:\n",
    "        return 0\n",
    "    elif s < PREFERRED_SPEED - SPEED_THRESHOLD:\n",
    "        return 0.8 \n",
    "    else:\n",
    "        return 0.4 "
   ]
  },
  {
   "cell_type": "code",
   "execution_count": 8,
   "metadata": {},
   "outputs": [],
   "source": [
    "#control main vehicle\n",
    "import sys\n",
    "sys.path.append('C:\\carla\\WindowsNoEditor\\PythonAPI\\carla') #depends on your path\n",
    "from agents.navigation.global_route_planner import GlobalRoutePlanner\n",
    "\n",
    "brake_pos = carla.Transform(carla.Location(x=95.991333, y=24.470984, z=0.068305), carla.Rotation(pitch=0.000075, yaw=0.159189, roll=-0.000488))\n",
    "point_a = start_point.location\n",
    "\n",
    "sampling_resolution = .8\n",
    "grp = GlobalRoutePlanner(world.get_map(), sampling_resolution)\n",
    "\n",
    "route = grp.trace_route(point_a, brake_pos.location)\n",
    "\n",
    "\n",
    "for waypoint in route:\n",
    "    main_vehicle.set_transform(waypoint[0].transform)\n",
    "    cv2.imshow('main vehicle',camera_data['image'])\n",
    "    cv2.waitKey(40)\n",
    "    world.tick()\n",
    "    if cv2.waitKey(1) == ord('q'):\n",
    "        break\n",
    "    #main_vehicle.apply_control(carla.VehicleControl(throttle=0.0, steer=0.0,hand_brake=True))\n",
    "    v = main_vehicle.get_velocity()\n",
    "    speed = round(3.6 * math.sqrt(v.x**2 + v.y**2 + v.z**2),0)\n",
    "    estimated_throttle = maintain_speed(speed)\n",
    "    main_vehicle.apply_control(carla.VehicleControl(throttle=estimated_throttle, \n",
    "                                               steer=0.0))\n",
    "\n",
    "    \n",
    "cv2.destroyAllWindows()\n",
    "camera.stop()"
   ]
  },
  {
   "cell_type": "code",
   "execution_count": 9,
   "metadata": {},
   "outputs": [],
   "source": [
    "#clear all actors\n",
    "for actor in world.get_actors().filter('*vehicle*'):\n",
    "    actor.destroy()\n",
    "for pedestrian in world.get_actors().filter('*walker*'):\n",
    "    pedestrian.destroy()\n",
    "for sensor in world.get_actors().filter('*sensor*'):\n",
    "    sensor.destroy()"
   ]
  }
 ],
 "metadata": {
  "kernelspec": {
   "display_name": "carla-sim",
   "language": "python",
   "name": "python3"
  },
  "language_info": {
   "codemirror_mode": {
    "name": "ipython",
    "version": 3
   },
   "file_extension": ".py",
   "mimetype": "text/x-python",
   "name": "python",
   "nbconvert_exporter": "python",
   "pygments_lexer": "ipython3",
   "version": "3.7.16"
  }
 },
 "nbformat": 4,
 "nbformat_minor": 2
}
